{
 "cells": [
  {
   "cell_type": "code",
   "execution_count": 20,
   "metadata": {},
   "outputs": [
    {
     "name": "stdout",
     "output_type": "stream",
     "text": [
      "False\n"
     ]
    },
    {
     "data": {
      "text/plain": [
       "<matplotlib.image.AxesImage at 0x29689380828>"
      ]
     },
     "execution_count": 20,
     "metadata": {},
     "output_type": "execute_result"
    },
    {
     "data": {
      "image/png": "[encoded data removed]",
      "text/plain": [
       "<Figure size 720x720 with 1 Axes>"
      ]
     },
     "metadata": {
      "needs_background": "light"
     },
     "output_type": "display_data"
    }
   ],
   "source": [
    "import numpy as np\n",
    "import pylab as plb\n",
    "import matplotlib\n",
    "plb.rcParams['figure.figsize'] = 10,10\n",
    "L = 50\n",
    "p = .51\n",
    "net = np.random.rand(L,L)\n",
    "net[net > p] = 0\n",
    "net[net != 0] = 1\n",
    "net = net.astype('int8')\n",
    "\n",
    "PathMatrix = np.zeros((L,L+1),int)\n",
    "PathMatrix[:,0] = 1\n",
    "counter = 2\n",
    "\n",
    "for j in range(L):\n",
    "    for i in range(L):\n",
    "        \n",
    "        left = PathMatrix[i][j]\n",
    "        up = PathMatrix[i-1][j+1]\n",
    "        Min = min([left,up])\n",
    "        Max = max([left,up])\n",
    "        \n",
    "        if j==0 and net[i][j]:\n",
    "            PathMatrix[i,j+1] = 1\n",
    "        \n",
    "        elif j!=0 and net[i][j]:\n",
    "            if i==0 and left == 0:\n",
    "                PathMatrix[i,j+1] = counter\n",
    "                counter+=1  \n",
    "            if Max == 0:\n",
    "                PathMatrix[i,j+1] = counter\n",
    "                counter+=1\n",
    "            if Min > 0 and up != left:\n",
    "                PathMatrix[i,j+1] = Min\n",
    "                PathMatrix[PathMatrix == Max] = Min\n",
    "            if Min == 0 and Max:\n",
    "                PathMatrix[i,j+1] = Max\n",
    "            if up == left and Min:\n",
    "                PathMatrix[i,j+1] = Min\n",
    "Validator = False              \n",
    "for i in range(L):\n",
    "    if PathMatrix[i][-1] == 1:\n",
    "        Validator = True\n",
    "\n",
    "cmap = matplotlib.colors.ListedColormap(['white',\"black\",'skyblue','tan','thistle','teal','sandybrown','red','coral','blueviolet','khaki','ivory','deeppink','salmon','tomato','purple','orange','green','yellow','grey','blue','cyan','lime','olive','gold','maroon','pink','brown','indigo']*60)\n",
    "print(Validator)\n",
    "plb.imshow(PathMatrix,cmap=cmap)\n"
   ]
  },
  {
   "cell_type": "code",
   "execution_count": null,
   "metadata": {},
   "outputs": [],
   "source": []
  }
 ],
 "metadata": {
  "kernelspec": {
   "display_name": "Python 3",
   "language": "python",
   "name": "python3"
  },
  "language_info": {
   "codemirror_mode": {
    "name": "ipython",
    "version": 3
   },
   "file_extension": ".py",
   "mimetype": "text/x-python",
   "name": "python",
   "nbconvert_exporter": "python",
   "pygments_lexer": "ipython3",
   "version": "3.7.3"
  }
 },
 "nbformat": 4,
 "nbformat_minor": 2
}
