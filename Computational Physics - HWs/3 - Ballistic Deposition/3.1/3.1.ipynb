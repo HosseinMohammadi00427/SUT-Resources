{
 "cells": [
  {
   "cell_type": "code",
   "execution_count": 5,
   "metadata": {},
   "outputs": [
    {
     "name": "stdout",
     "output_type": "stream",
     "text": [
      "[[0 1 0]\n",
      " [0 1 1]\n",
      " [1 1 0]]\n"
     ]
    },
    {
     "data": {
      "text/plain": [
       "<matplotlib.image.AxesImage at 0x1988242f668>"
      ]
     },
     "execution_count": 5,
     "metadata": {},
     "output_type": "execute_result"
    },
    {
     "data": {
      "image/png": "[encoded data removed]",
      "text/plain": [
       "<Figure size 432x432 with 1 Axes>"
      ]
     },
     "metadata": {
      "needs_background": "light"
     },
     "output_type": "display_data"
    }
   ],
   "source": [
    "import numpy as np\n",
    "import pylab as plb\n",
    "import matplotlib\n",
    "plb.rcParams['figure.figsize'] = 6,6\n",
    "\n",
    "\n",
    "def existsPath(net, i=0, j=0,start=True):\n",
    "    dim = net.shape[0]\n",
    "    if start:\n",
    "        for k in range(dim):\n",
    "            if net[i][k]:\n",
    "                j = k\n",
    "                break\n",
    "        else:\n",
    "            return False\n",
    "           \n",
    "    if j >=dim or j<0:\n",
    "        return False\n",
    "    if i >= dim-1:\n",
    "        return True\n",
    "    \n",
    "    if 2 not in [net[i][k] + net[i+1][k]  for k in range(dim)]:\n",
    "        return False\n",
    "    \n",
    "    if net[i][j] and net[i+1][j]:\n",
    "         return existsPath (net, i+1, j,False)\n",
    "    \n",
    "    elif net[i][j] and  j<dim-1 and net[i][j+1] :\n",
    "         return existsPath (net, i, j+1,False)\n",
    "    \n",
    "    elif net[i][j] and  j>0 and net[i][j-1] :\n",
    "         return existsPath (net, i, j-1,False)\n",
    "    else:\n",
    "        return False\n",
    "        \n",
    "\n",
    "L = 3\n",
    "p = .59\n",
    "net = np.random.rand(L,L)\n",
    "net[net > p] = 0\n",
    "net[net != 0] = 1\n",
    "net = net.astype('int8')\n",
    "print(net)\n",
    "plb.imshow(net,cmap=\"binary\")\n",
    "#print(existsPath(net))"
   ]
  }
 ],
 "metadata": {
  "kernelspec": {
   "display_name": "Python 3",
   "language": "python",
   "name": "python3"
  },
  "language_info": {
   "codemirror_mode": {
    "name": "ipython",
    "version": 3
   },
   "file_extension": ".py",
   "mimetype": "text/x-python",
   "name": "python",
   "nbconvert_exporter": "python",
   "pygments_lexer": "ipython3",
   "version": "3.7.3"
  }
 },
 "nbformat": 4,
 "nbformat_minor": 2
}
