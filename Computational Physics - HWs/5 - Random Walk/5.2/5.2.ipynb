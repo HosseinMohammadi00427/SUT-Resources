{
 "cells": [
  {
   "cell_type": "code",
   "execution_count": 4,
   "metadata": {},
   "outputs": [
    {
     "name": "stdout",
     "output_type": "stream",
     "text": [
      "p = 0.5 , q = 0.5 , N(steps) = 400 \n",
      "Lattice size = 1000 , iterations = 1000\n",
      "\n",
      "                ***Mean***\n",
      "<x(t)> = (p-q)*N (Theoritical)  =   0.0 \n",
      "By averaging on P(x): -0.6\n",
      "\n",
      "             ***Variance***\n",
      "σ^2 = 4Npql^2 (Theoritical) = : 400.0 \n",
      "And By using np.var(): -0.616\n"
     ]
    }
   ],
   "source": [
    "import numpy as np\n",
    "import pylab as plb\n",
    "import random\n",
    "\n",
    "p = 0.5\n",
    "q = 1-p\n",
    "N = 400\n",
    "SIZE = 1000\n",
    "\n",
    "Places = np.zeros(SIZE)\n",
    "Places[SIZE//2] = 1\n",
    "\n",
    "iters = 1000\n",
    "position = 0\n",
    "Save = []\n",
    "\n",
    "\n",
    "def E(X,Y,p = 1):\n",
    "    \"\"\"It's mathematical function 'Expected Value' which is used in finding sigma (std)\"\"\"\n",
    "    e = 0\n",
    "    for s in range(len(X)):\n",
    "        e += (X[s]**p)*Y[s]\n",
    "    return e\n",
    "\n",
    "def variance(X,Y):\n",
    "    \"\"\"returns std of X and Y (by defenition)\"\"\"\n",
    "    \"\"\" Notice that I could find use numpy built in functions but I didn't know what it do insider the function np.std()\"\"\"\n",
    "    return E(X,Y,p = 2) - E(X,Y,p = 1)**2\n",
    "\n",
    "for _ in range(iters):\n",
    "    position = 0\n",
    "    for i in range(N):\n",
    "        rand = random.random()\n",
    "        if rand<p:\n",
    "            position +=1\n",
    "        else:\n",
    "            position -=1\n",
    "    Save.append(position)\n",
    "average = (sum(Save)/iters)\n",
    "std = (np.var(Save))\n",
    "# Uncomment Below for deterministics MODE :)\n",
    "\"\"\"\n",
    "for i in range(N):\n",
    "    avail_homes = np.argwhere(Places)\n",
    "    for av in avail_homes:\n",
    "        Places[av-1] += q*Places[av]\n",
    "        Places[av+1] += p*Places[av]\n",
    "        Places[av] = 0\n",
    "        \n",
    "\n",
    "\n",
    "Xs = np.array(range(SIZE))\n",
    "Xs = Xs - SIZE//2\n",
    "\n",
    "Positivs = np.argwhere (Places>0)\n",
    "U = [x-SIZE//2 for x in Positivs]\n",
    "V = [Places[x] for x in Positivs]\n",
    "plb.plot(U,V,linestyle = \"--\",label='connected data points')\n",
    "\n",
    "plb.title('the distribution of places for p = {} and q = {} with {} steps'.format(round(p,3),round(q,3),N))\n",
    "plb.legend()\n",
    "plb.xlabel('(x) distance along an axis',fontsize=16)\n",
    "plb.ylabel('P  (Probablity)',fontsize=16)\n",
    "\"\"\"\n",
    "print('p = {} , q = {} , N(steps) = {} \\nLattice size = {} , iterations = {}'.format(p,round(q,3),N,SIZE,iters))\n",
    "print('\\n                ***Mean***\\n<x(t)> = (p-q)*N (Theoritical)  =  ',round((p-q)*N,4),'\\nBy averaging on P(x):',round(average,1))\n",
    "print('\\n             ***Variance***\\n\\u03c3^2 = 4Npql^2 (Theoritical) = :',round(4*N*p*q,4),'\\nAnd By using np.var():',round(average,3))\n"
   ]
  }
 ],
 "metadata": {
  "kernelspec": {
   "display_name": "Python 3",
   "language": "python",
   "name": "python3"
  },
  "language_info": {
   "codemirror_mode": {
    "name": "ipython",
    "version": 3
   },
   "file_extension": ".py",
   "mimetype": "text/x-python",
   "name": "python",
   "nbconvert_exporter": "python",
   "pygments_lexer": "ipython3",
   "version": "3.7.3"
  }
 },
 "nbformat": 4,
 "nbformat_minor": 2
}
