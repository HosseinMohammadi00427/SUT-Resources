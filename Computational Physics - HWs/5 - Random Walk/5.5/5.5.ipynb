{
 "cells": [
  {
   "cell_type": "code",
   "execution_count": 15,
   "metadata": {},
   "outputs": [
    {
     "name": "stdout",
     "output_type": "stream",
     "text": [
      "Probablity: up = 0.25 / right = 0.25 / down = 0.25 /\n",
      "left = 0.25  N(steps) = 500 and iterations = 5000\n",
      "\n",
      "              ***Mean***\n",
      "       <r^2> by np.mean() =  496.4488\n",
      "       Theoritical Prediction =  499.9542204827958\n"
     ]
    }
   ],
   "source": [
    "#2d random walk\n",
    "import numpy as np\n",
    "import pylab as plb\n",
    "import random\n",
    "\n",
    "p1 = 0.25\n",
    "p2 = 0.25\n",
    "p3 = 0.25\n",
    "p4 = 1 - (p1+p2+p3)\n",
    "N = 500\n",
    "r_list = []\n",
    "iterations = 5000\n",
    "Place = np.zeros((2),int)\n",
    "dim = 2\n",
    "\n",
    "\n",
    "def E(X,Y,p = 1):\n",
    "    \"\"\"It's mathematical function 'Expected Value' which is used in finding sigma (std)\"\"\"\n",
    "    e = 0\n",
    "    for s in range(len(X)):\n",
    "        e += (X[s]**p)*Y[s]\n",
    "    print(e)\n",
    "    return e\n",
    "def variance(X,Y):\n",
    "    \"\"\"returns std of X and Y (by defenition)\"\"\"\n",
    "    return E(X,Y,p = 2) - E(X,Y,p = 1)**2\n",
    "\n",
    "for _ in range(iterations):\n",
    "    Place = np.zeros((2),int)\n",
    "    for i in range(N):\n",
    "        rand = random.random()\n",
    "        if 0<rand<p1:\n",
    "            Place[1] += 1\n",
    "        elif p1<rand<p1+p2:\n",
    "            Place[0] += 1\n",
    "        elif p1+p2<rand<p1+p2+p3:\n",
    "            Place[1] -= 1\n",
    "        else:\n",
    "            Place[0] -= 1\n",
    "    r_list.append(Place[0]**2+Place[1]**2)\n",
    "\n",
    "print(\"Probablity: up = {} / right = {} / down = {} /\\nleft = {}  N(steps) = {} and iterations = {}\".format(p1,p2,p3,round(p4,2),N,iterations))\n",
    "print(\"\\n              ***Mean***\\n       <r^2> by np.mean() = \",np.mean(r_list))\n",
    "#Regularly U should find sigma by E(x^2) -E(x)^2\n",
    "print(\"       Theoritical Prediction = \",np.sqrt(np.var(r_list)))\n"
   ]
  }
 ],
 "metadata": {
  "kernelspec": {
   "display_name": "Python 3",
   "language": "python",
   "name": "python3"
  },
  "language_info": {
   "codemirror_mode": {
    "name": "ipython",
    "version": 3
   },
   "file_extension": ".py",
   "mimetype": "text/x-python",
   "name": "python",
   "nbconvert_exporter": "python",
   "pygments_lexer": "ipython3",
   "version": "3.7.3"
  }
 },
 "nbformat": 4,
 "nbformat_minor": 2
}
