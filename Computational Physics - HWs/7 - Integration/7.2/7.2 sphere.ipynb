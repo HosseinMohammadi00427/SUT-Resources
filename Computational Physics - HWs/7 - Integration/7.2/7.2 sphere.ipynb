{
 "cells": [
  {
   "cell_type": "code",
   "execution_count": 1,
   "metadata": {},
   "outputs": [
    {
     "name": "stdout",
     "output_type": "stream",
     "text": [
      "R = 47\n",
      "Rho 0 = 11.8\n",
      "Numeric value of zCM 4.77221\n",
      "Real value of zCM: 4.7\n",
      "Elapsed Time: 2.1323\n"
     ]
    }
   ],
   "source": [
    "#Sphere CM\n",
    "import time\n",
    "import numpy as np\n",
    "import random as rnd\n",
    "T11 = time.time()\n",
    "\n",
    "\n",
    "def find_mean(f,N,R,P,T):\n",
    "    \"\"\"Find the mean of function f(r,phi,theta) in range (0,R) (0,P) (0,T) with N samples (Integration has done on spherical coordinates)\"\"\"\n",
    "    c = 0\n",
    "    g = lambda r,p,t : (r**2)*np.sin(t)\n",
    "    for _ in range(N):\n",
    "        r = rnd.uniform(0,R)\n",
    "        p = rnd.uniform(0,P)\n",
    "        t = rnd.uniform(0,T)\n",
    "        c += (f(r,p,t)*g(r,p,t))\n",
    "    return c/N\n",
    "rho0 = 11.8\n",
    "R= 47\n",
    "f = lambda r,p,t : r*np.cos(t)*((rho0/(2*R))*r*np.cos(t) +1.5*rho0)\n",
    "r1,r2 = 0,R\n",
    "p1,p2 = 0,2*np.pi\n",
    "t1,t2 = 0,np.pi\n",
    "N=100000\n",
    "I = (r2-r1)*(p2-p1)*(t2-t1)*find_mean(f,N,R,p2,t2)\n",
    "T22 = time.time()\n",
    "print('R =',R)\n",
    "print('Rho 0 =',rho0)\n",
    "print('Numeric value of zCM', round(I/((4/3)*np.pi*rho0*r2**3),6))\n",
    "print('Real value of zCM:',round(R*0.1,3))\n",
    "print('Elapsed Time:',round(T22-T11,4))\n"
   ]
  }
 ],
 "metadata": {
  "kernelspec": {
   "display_name": "Python 3",
   "language": "python",
   "name": "python3"
  },
  "language_info": {
   "codemirror_mode": {
    "name": "ipython",
    "version": 3
   },
   "file_extension": ".py",
   "mimetype": "text/x-python",
   "name": "python",
   "nbconvert_exporter": "python",
   "pygments_lexer": "ipython3",
   "version": "3.7.3"
  }
 },
 "nbformat": 4,
 "nbformat_minor": 2
}
