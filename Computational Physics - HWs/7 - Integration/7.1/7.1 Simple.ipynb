{
 "cells": [
  {
   "cell_type": "code",
   "execution_count": 1,
   "metadata": {},
   "outputs": [
    {
     "name": "stdout",
     "output_type": "stream",
     "text": [
      "Simple Sampling\n",
      "Integral value is:  0.882241714\n",
      "Time elapsed: 0.9206  s\n"
     ]
    }
   ],
   "source": [
    "#Simple Sampling\n",
    "import time\n",
    "import numpy as np\n",
    "import random as rnd\n",
    "T11 = time.time()\n",
    "\n",
    "f = lambda x : np.exp(-x**2)\n",
    "a,b = 0,2\n",
    "N=100000\n",
    "\n",
    "def find_mean(f,a,b,N):\n",
    "    \"\"\"ّFind The mean of function f(x) in the interval (a,b) by N samples.\"\"\"\n",
    "    c = 0\n",
    "    for _ in range(N):\n",
    "        x = rnd.uniform(a,b)\n",
    "        c += f(x)\n",
    "    return c/N\n",
    "\n",
    "\n",
    "I = (b-a)*find_mean(f,a,b,N)\n",
    "T22 = time.time()\n",
    "print( 'Simple Sampling' )\n",
    "print( 'Integral value is: ',round(I,9) )\n",
    "print('Time elapsed:',round(T22-T11,5),' s')"
   ]
  }
 ],
 "metadata": {
  "kernelspec": {
   "display_name": "Python 3",
   "language": "python",
   "name": "python3"
  },
  "language_info": {
   "codemirror_mode": {
    "name": "ipython",
    "version": 3
   },
   "file_extension": ".py",
   "mimetype": "text/x-python",
   "name": "python",
   "nbconvert_exporter": "python",
   "pygments_lexer": "ipython3",
   "version": "3.7.3"
  }
 },
 "nbformat": 4,
 "nbformat_minor": 2
}
