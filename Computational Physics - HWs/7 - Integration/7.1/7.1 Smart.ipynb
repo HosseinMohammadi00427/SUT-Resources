{
 "cells": [
  {
   "cell_type": "code",
   "execution_count": 3,
   "metadata": {},
   "outputs": [
    {
     "name": "stdout",
     "output_type": "stream",
     "text": [
      "ُSmart Sampling\n",
      "Integral value is:  0.881358018\n",
      "Time elapsed: 2.9428  s\n"
     ]
    }
   ],
   "source": [
    "#Simple Sampling\n",
    "import numpy as np\n",
    "import random as rnd\n",
    "import time\n",
    "T11 = time.time()\n",
    "\n",
    "def arbit_dist_random(G_1,a,b):\n",
    "    \"\"\"Generates Random number with specified distribution in specified interval (you must pass to it G^-1)\"\"\"\n",
    "    rand_num = G_1(rnd.uniform(0,1))\n",
    "    while (a> rand_num or b<rand_num):\n",
    "        rand_num = G_1(rnd.uniform(0,1))\n",
    "    return rand_num\n",
    "\n",
    "def find_mean(f,g,G_1,a,b,N):\n",
    "    \"\"\"Returns Mean of a function f in interval (a,b) with Random numbers that have g distribution\"\"\"\n",
    "    c = 0\n",
    "    for _ in range(N):\n",
    "        x = arbit_dist_random(G_1,a,b)\n",
    "        c += (f(x)/g(x))\n",
    "    return c/N\n",
    "\n",
    "f = lambda x : np.exp(-x**2)\n",
    "a,b = 0,2\n",
    "N=100000\n",
    "\n",
    "I = (1-1/(np.exp(2)))*find_mean(f,lambda x:np.exp(-x),lambda x: -np.log(x),a,b,N)\n",
    "T22 = time.time()\n",
    "\n",
    "print( 'ُSmart Sampling' )\n",
    "print( 'Integral value is: ',round(I,9) )\n",
    "print('Time elapsed:',round(T22-T11,5),' s')"
   ]
  }
 ],
 "metadata": {
  "kernelspec": {
   "display_name": "Python 3",
   "language": "python",
   "name": "python3"
  },
  "language_info": {
   "codemirror_mode": {
    "name": "ipython",
    "version": 3
   },
   "file_extension": ".py",
   "mimetype": "text/x-python",
   "name": "python",
   "nbconvert_exporter": "python",
   "pygments_lexer": "ipython3",
   "version": "3.7.3"
  }
 },
 "nbformat": 4,
 "nbformat_minor": 2
}
