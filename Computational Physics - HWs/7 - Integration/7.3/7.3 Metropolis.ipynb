{
 "cells": [
  {
   "cell_type": "code",
   "execution_count": 1,
   "metadata": {},
   "outputs": [
    {
     "name": "stdout",
     "output_type": "stream",
     "text": [
      "Acceptance Rate: 0.72717\n",
      "C(data,4) =  0.2592467906299398\n"
     ]
    }
   ],
   "source": [
    "#Metropolis\n",
    "import numpy as np\n",
    "import random as rnd\n",
    "import pylab as plb\n",
    "p = lambda x: np.exp(-x**2)\n",
    "N = 100000\n",
    "x = 0\n",
    "y = 0\n",
    "dat = []\n",
    "acr = 0\n",
    "j=4\n",
    "\n",
    "def variance(data):\n",
    "    \"\"\"Returns the std(standard deviation) of data\"\"\"\n",
    "    data = np.array(data)\n",
    "    return(np.mean(data**2) - np.mean(data)**2)\n",
    "\n",
    "\n",
    "def Correlation(data,j):\n",
    "    \"\"\"Finds the Autocorrelation between samples (data) with distance j\"\"\"\n",
    "    data = np.array(data)\n",
    "    A = 0\n",
    "    B = 0\n",
    "    for i in range(len(data)):\n",
    "        if i+j < len(data):\n",
    "            A += data[i]*data[i+j]\n",
    "            B += data[i+j]\n",
    "\n",
    "    A/= (len(data)-j)\n",
    "    B/= (len(data)-j)\n",
    "    return (A - np.mean(data)*B)/variance(data)\n",
    "\n",
    "\n",
    "\n",
    "for _ in range(N):\n",
    "    y = x + rnd.uniform(-1,1)\n",
    "    if rnd.random() < p(y)/p(x):\n",
    "        dat.append(y)\n",
    "        acr+=1\n",
    "        x=y\n",
    "#Uncomment bellow to see the distribution\n",
    "#plb.hist(dat,bins=150,normed=1)\n",
    "print('Acceptance Rate:',acr/N)\n",
    "\n",
    "print('C(data,{}) = '.format(j),Correlation(dat,j))"
   ]
  }
 ],
 "metadata": {
  "kernelspec": {
   "display_name": "Python 3",
   "language": "python",
   "name": "python3"
  },
  "language_info": {
   "codemirror_mode": {
    "name": "ipython",
    "version": 3
   },
   "file_extension": ".py",
   "mimetype": "text/x-python",
   "name": "python",
   "nbconvert_exporter": "python",
   "pygments_lexer": "ipython3",
   "version": "3.7.3"
  }
 },
 "nbformat": 4,
 "nbformat_minor": 2
}
