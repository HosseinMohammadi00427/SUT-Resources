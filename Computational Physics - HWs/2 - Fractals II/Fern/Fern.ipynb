{
 "cells": [
  {
   "cell_type": "code",
   "execution_count": 1,
   "metadata": {},
   "outputs": [],
   "source": [
    "import random\n",
    "from PIL import Image\n",
    "\n",
    "pts = 100000\n",
    "\n",
    "class Fern(object):\n",
    "    def __init__(self, img_width, img_height, c=(0, 0, 0),\n",
    "                 bg_color=(255, 255, 255)):\n",
    "        self.img_width, self.img_height = img_width, img_height\n",
    "        self.paint_color = c\n",
    "        self.x, self.y = 0, 0\n",
    "        self.i = 0\n",
    " \n",
    "        self.fern = Image.new('RGB', (img_width, img_height), bg_color)\n",
    "        self.pix = self.fern.load()\n",
    "        self.pix[self.scale(0, 0)] = c\n",
    " \n",
    "    def scale(self, x, y):\n",
    "        h = (x + 2.182)*(self.img_width - 1)/4.8378\n",
    "        k = (9.9983 - y)*(self.img_height - 1)/9.9983\n",
    "        return h, k\n",
    " \n",
    "    def transform(self, x, y):\n",
    "        rand = random.uniform(0, 100)\n",
    "        if rand < 1:\n",
    "            return 0, 0.16*y\n",
    "        elif 1 <= rand < 86:\n",
    "            return 0.85*x + 0.04*y, -0.04*x + 0.85*y + 1.6\n",
    "        elif 86 <= rand < 93:\n",
    "            return 0.18*x - 0.26*y, 0.23*x + 0.22*y + 1.6\n",
    "        else:\n",
    "            return -0.15*x + 0.28*y, 0.2*x + 0.25*y + 0.44\n",
    " \n",
    "    def iterate(self, j):\n",
    "        for t in range(j):\n",
    "            self.x, self.y = self.transform(self.x, self.y)\n",
    "            self.pix[self.scale(self.x, self.y)] = self.paint_color\n",
    "        self.i += j\n",
    "        self.fern.show()\n",
    "        \n",
    " \n",
    "fern = Fern(500,500)\n",
    "fern.iterate(pts)\n",
    " "
   ]
  }
 ],
 "metadata": {
  "kernelspec": {
   "display_name": "Python 3",
   "language": "python",
   "name": "python3"
  },
  "language_info": {
   "codemirror_mode": {
    "name": "ipython",
    "version": 3
   },
   "file_extension": ".py",
   "mimetype": "text/x-python",
   "name": "python",
   "nbconvert_exporter": "python",
   "pygments_lexer": "ipython3",
   "version": "3.7.3"
  }
 },
 "nbformat": 4,
 "nbformat_minor": 2
}
