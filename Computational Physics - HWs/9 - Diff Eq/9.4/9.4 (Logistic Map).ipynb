{
 "cells": [
  {
   "cell_type": "code",
   "execution_count": 14,
   "metadata": {},
   "outputs": [
    {
     "name": "stdout",
     "output_type": "stream",
     "text": [
      "1.4706950187683105\n"
     ]
    }
   ],
   "source": [
    "import time\n",
    "import numpy as np\n",
    "import pylab as plb\n",
    "\n",
    "plb.rcParams['figure.figsize'] = 8,6\n",
    "\n",
    "Time_1 = time.time()\n",
    "\n",
    "\n",
    "#Chaos\n",
    "import random\n",
    "chaos = lambda x,r: 4*r*x*(1-x)\n",
    "Data = []\n",
    "\n",
    "for r in np.linspace(0,1,201):\n",
    "    x = random.random()\n",
    "    for _ in range(100):\n",
    "        x = chaos(x,r)\n",
    "    Data.append([])\n",
    "    Data[-1] = [x]\n",
    "    for i in range(50):\n",
    "        Data[-1].append(chaos(Data[-1][-1],r))\n",
    "        \n",
    "        \n",
    "i=0\n",
    "%matplotlib qt \n",
    "plb.rcParams['figure.figsize'] = 12,8\n",
    "for K in np.linspace(0,1,201):\n",
    "    plb.scatter([K]*51,Data[i],color=\"black\",marker=\".\")\n",
    "    i+=1\n",
    "\n",
    "\n",
    "\n",
    "print(time.time()-Time_1)\n"
   ]
  }
 ],
 "metadata": {
  "kernelspec": {
   "display_name": "Python 3",
   "language": "python",
   "name": "python3"
  },
  "language_info": {
   "codemirror_mode": {
    "name": "ipython",
    "version": 3
   },
   "file_extension": ".py",
   "mimetype": "text/x-python",
   "name": "python",
   "nbconvert_exporter": "python",
   "pygments_lexer": "ipython3",
   "version": "3.7.3"
  }
 },
 "nbformat": 4,
 "nbformat_minor": 2
}
